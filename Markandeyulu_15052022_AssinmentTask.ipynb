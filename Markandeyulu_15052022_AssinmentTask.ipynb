{
 "cells": [
  {
   "cell_type": "code",
   "execution_count": 1,
   "id": "edb2f248",
   "metadata": {},
   "outputs": [],
   "source": [
    "s = \"this is My First Python programming class and i am learNING string and its function\""
   ]
  },
  {
   "cell_type": "code",
   "execution_count": 2,
   "id": "e822463a",
   "metadata": {},
   "outputs": [
    {
     "data": {
      "text/plain": [
       "'this is My First Python programming class and i am learNING string and its function'"
      ]
     },
     "execution_count": 2,
     "metadata": {},
     "output_type": "execute_result"
    }
   ],
   "source": [
    "s"
   ]
  },
  {
   "cell_type": "raw",
   "id": "51101f45",
   "metadata": {},
   "source": [
    "1. Try to extract the data from index one to 300 with a jump of 3 "
   ]
  },
  {
   "cell_type": "code",
   "execution_count": 3,
   "id": "ebb10089",
   "metadata": {},
   "outputs": [
    {
     "data": {
      "text/plain": [
       "'h   r tnrrmglsnimeNGtna sutn'"
      ]
     },
     "execution_count": 3,
     "metadata": {},
     "output_type": "execute_result"
    }
   ],
   "source": [
    "s[1:300:3]"
   ]
  },
  {
   "cell_type": "raw",
   "id": "2ece9443",
   "metadata": {},
   "source": [
    "2. Try to revers a string with out using reverse function"
   ]
  },
  {
   "cell_type": "code",
   "execution_count": 4,
   "id": "31269e54",
   "metadata": {},
   "outputs": [
    {
     "data": {
      "text/plain": [
       "'noitcnuf sti dna gnirts GNINrael ma i dna ssalc gnimmargorp nohtyP tsriF yM si siht'"
      ]
     },
     "execution_count": 4,
     "metadata": {},
     "output_type": "execute_result"
    }
   ],
   "source": [
    "s[::-1]"
   ]
  },
  {
   "cell_type": "raw",
   "id": "6406dc54",
   "metadata": {},
   "source": [
    "3. Try to split after conversion of entire string in uppercase"
   ]
  },
  {
   "cell_type": "code",
   "execution_count": 5,
   "id": "42312157",
   "metadata": {},
   "outputs": [
    {
     "data": {
      "text/plain": [
       "['THIS',\n",
       " 'IS',\n",
       " 'MY',\n",
       " 'FIRST',\n",
       " 'PYTHON',\n",
       " 'PROGRAMMING',\n",
       " 'CLASS',\n",
       " 'AND',\n",
       " 'I',\n",
       " 'AM',\n",
       " 'LEARNING',\n",
       " 'STRING',\n",
       " 'AND',\n",
       " 'ITS',\n",
       " 'FUNCTION']"
      ]
     },
     "execution_count": 5,
     "metadata": {},
     "output_type": "execute_result"
    }
   ],
   "source": [
    "s.upper().split(\" \",-1)"
   ]
  },
  {
   "cell_type": "raw",
   "id": "5620b30c",
   "metadata": {},
   "source": [
    "4. Try to convert the whole string into lowercase"
   ]
  },
  {
   "cell_type": "code",
   "execution_count": 6,
   "id": "411a0475",
   "metadata": {},
   "outputs": [
    {
     "data": {
      "text/plain": [
       "'this is my first python programming class and i am learning string and its function'"
      ]
     },
     "execution_count": 6,
     "metadata": {},
     "output_type": "execute_result"
    }
   ],
   "source": [
    "s.lower()"
   ]
  },
  {
   "cell_type": "raw",
   "id": "2ba5153e",
   "metadata": {},
   "source": [
    "5. Try to capitalise the whole string"
   ]
  },
  {
   "cell_type": "code",
   "execution_count": 7,
   "id": "567ec624",
   "metadata": {},
   "outputs": [
    {
     "data": {
      "text/plain": [
       "'This is my first python programming class and i am learning string and its function'"
      ]
     },
     "execution_count": 7,
     "metadata": {},
     "output_type": "execute_result"
    }
   ],
   "source": [
    "s.capitalize()"
   ]
  },
  {
   "cell_type": "raw",
   "id": "6b8a46e2",
   "metadata": {},
   "source": [
    "6. write a difference between isalnum() and isalpha()"
   ]
  },
  {
   "cell_type": "raw",
   "id": "943c83f3",
   "metadata": {},
   "source": [
    "isalnum() returns true if string contains is either alphabets(a to z,A to Z) or numeric(1 to 9) otherwise returns false\n",
    "isalpha() retunrs true if string contains alphabets(a to z,A to Z) otherwise retuns false"
   ]
  },
  {
   "cell_type": "raw",
   "id": "05b775a8",
   "metadata": {},
   "source": [
    "7. Try to give an example of expand tab"
   ]
  },
  {
   "cell_type": "code",
   "execution_count": 11,
   "id": "ec9fc095",
   "metadata": {},
   "outputs": [],
   "source": [
    "s1 = \"Markandeyulu\\tlearning\\tdatascience\""
   ]
  },
  {
   "cell_type": "code",
   "execution_count": 12,
   "id": "5bc92489",
   "metadata": {},
   "outputs": [
    {
     "data": {
      "text/plain": [
       "'Markandeyulu\\tlearning\\tdatascience'"
      ]
     },
     "execution_count": 12,
     "metadata": {},
     "output_type": "execute_result"
    }
   ],
   "source": [
    "s1"
   ]
  },
  {
   "cell_type": "code",
   "execution_count": 13,
   "id": "8a718479",
   "metadata": {},
   "outputs": [
    {
     "data": {
      "text/plain": [
       "'Markandeyulu    learning        datascience'"
      ]
     },
     "execution_count": 13,
     "metadata": {},
     "output_type": "execute_result"
    }
   ],
   "source": [
    "s1.expandtabs()"
   ]
  },
  {
   "cell_type": "raw",
   "id": "cd0b3d0e",
   "metadata": {},
   "source": [
    "8. Give an example of strip,lstrip,rstrip"
   ]
  },
  {
   "cell_type": "code",
   "execution_count": 14,
   "id": "d1e78bcc",
   "metadata": {},
   "outputs": [],
   "source": [
    "s2 = \"   Markandeyulu   \""
   ]
  },
  {
   "cell_type": "code",
   "execution_count": 15,
   "id": "a3bd1580",
   "metadata": {},
   "outputs": [
    {
     "data": {
      "text/plain": [
       "'   Markandeyulu   '"
      ]
     },
     "execution_count": 15,
     "metadata": {},
     "output_type": "execute_result"
    }
   ],
   "source": [
    "s2"
   ]
  },
  {
   "cell_type": "code",
   "execution_count": 16,
   "id": "c4a661c6",
   "metadata": {},
   "outputs": [
    {
     "data": {
      "text/plain": [
       "'Markandeyulu'"
      ]
     },
     "execution_count": 16,
     "metadata": {},
     "output_type": "execute_result"
    }
   ],
   "source": [
    "s2.strip()"
   ]
  },
  {
   "cell_type": "code",
   "execution_count": 17,
   "id": "a1147eca",
   "metadata": {},
   "outputs": [
    {
     "data": {
      "text/plain": [
       "'Markandeyulu   '"
      ]
     },
     "execution_count": 17,
     "metadata": {},
     "output_type": "execute_result"
    }
   ],
   "source": [
    "s2.lstrip()"
   ]
  },
  {
   "cell_type": "code",
   "execution_count": 18,
   "id": "2328b939",
   "metadata": {},
   "outputs": [
    {
     "data": {
      "text/plain": [
       "'   Markandeyulu'"
      ]
     },
     "execution_count": 18,
     "metadata": {},
     "output_type": "execute_result"
    }
   ],
   "source": [
    "s2.rstrip()"
   ]
  },
  {
   "cell_type": "raw",
   "id": "063158de",
   "metadata": {},
   "source": [
    "9. Replace a string character by another character by taking your example"
   ]
  },
  {
   "cell_type": "code",
   "execution_count": 19,
   "id": "cffaaff2",
   "metadata": {},
   "outputs": [],
   "source": [
    "s3 = \"Markandeyulu Kativarapu\""
   ]
  },
  {
   "cell_type": "code",
   "execution_count": 20,
   "id": "f97d71ad",
   "metadata": {},
   "outputs": [
    {
     "data": {
      "text/plain": [
       "'M@rk@ndeyulu K@tiv@r@pu'"
      ]
     },
     "execution_count": 20,
     "metadata": {},
     "output_type": "execute_result"
    }
   ],
   "source": [
    "s3.replace(\"a\",\"@\")"
   ]
  },
  {
   "cell_type": "raw",
   "id": "f549d6bf",
   "metadata": {},
   "source": [
    "10. Try to give a definition of string center function with an example"
   ]
  },
  {
   "cell_type": "raw",
   "id": "4613ec71",
   "metadata": {},
   "source": [
    "String Center() function accepts the length as input and give that string in center of that length"
   ]
  },
  {
   "cell_type": "code",
   "execution_count": 21,
   "id": "35e8164e",
   "metadata": {},
   "outputs": [],
   "source": [
    "s4 = \"Mark\""
   ]
  },
  {
   "cell_type": "code",
   "execution_count": 22,
   "id": "5ceec465",
   "metadata": {},
   "outputs": [
    {
     "data": {
      "text/plain": [
       "'Mark'"
      ]
     },
     "execution_count": 22,
     "metadata": {},
     "output_type": "execute_result"
    }
   ],
   "source": [
    "s4"
   ]
  },
  {
   "cell_type": "code",
   "execution_count": 24,
   "id": "b5d63b22",
   "metadata": {},
   "outputs": [
    {
     "data": {
      "text/plain": [
       "'             Mark             '"
      ]
     },
     "execution_count": 24,
     "metadata": {},
     "output_type": "execute_result"
    }
   ],
   "source": [
    "s4.center(30)"
   ]
  },
  {
   "cell_type": "raw",
   "id": "671a8c5e",
   "metadata": {},
   "source": [
    "11. Write your own definition of compiler and interpreter with out copy paste from internet\n",
    "\n",
    "Ans: \n",
    "Compiler:\n",
    " \tTakes whole program(all lines of code) at once by saving the code into memory then compiles and then executes , If error occurs it will give all errors at once.\n",
    "example: C,C++,Java ...\n",
    "\t\t\t\n",
    "Interpreter:\n",
    "\tTakes line by line of code compiles and executes simultaneously with less memory(with out saving the code) ,If error occurs line by line execution halts. \n",
    "example: Javascript,Python...\n"
   ]
  },
  {
   "cell_type": "raw",
   "id": "1fafa01d",
   "metadata": {},
   "source": [
    "12.Python is a interpreter or compiled language give a clear answer with your understanding\n",
    "\n",
    "Ans:\n",
    "Python is a Interpreter language because the source code compiles and executes simultaneously line by line "
   ]
  },
  {
   "cell_type": "raw",
   "id": "7c74e6ad",
   "metadata": {},
   "source": [
    "13.Try to write a use case of python with your understanding\n",
    "\n",
    "Ans:\n",
    "Python uses for Web development,Data science, AI applications.\n",
    "These include advanced computing, data analytics, image recognition, text & data processing, SciPy, Pandas, TensorFlow, NumPy and many more. \n"
   ]
  },
  {
   "cell_type": "code",
   "execution_count": null,
   "id": "54ae7641",
   "metadata": {},
   "outputs": [],
   "source": []
  }
 ],
 "metadata": {
  "kernelspec": {
   "display_name": "Python 3 (ipykernel)",
   "language": "python",
   "name": "python3"
  },
  "language_info": {
   "codemirror_mode": {
    "name": "ipython",
    "version": 3
   },
   "file_extension": ".py",
   "mimetype": "text/x-python",
   "name": "python",
   "nbconvert_exporter": "python",
   "pygments_lexer": "ipython3",
   "version": "3.9.7"
  }
 },
 "nbformat": 4,
 "nbformat_minor": 5
}
