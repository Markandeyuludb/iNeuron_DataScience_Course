{
 "cells": [
  {
   "cell_type": "code",
   "execution_count": 1,
   "id": "f54f865d",
   "metadata": {},
   "outputs": [
    {
     "name": "stdout",
     "output_type": "stream",
     "text": [
      "iNeuron \n",
      "\n",
      "iNeuron iNeuron \n",
      "\n",
      "iNeuron iNeuron iNeuron \n",
      "\n",
      "iNeuron iNeuron iNeuron iNeuron \n",
      "\n"
     ]
    }
   ],
   "source": [
    "s = \"iNeuron\"\n",
    "n = 4\n",
    "for i in range(n):\n",
    "    for j in range(i+1):\n",
    "        print(s, end = \" \")\n",
    "    print(\"\\n\")"
   ]
  },
  {
   "cell_type": "code",
   "execution_count": 2,
   "id": "8d471f89",
   "metadata": {},
   "outputs": [
    {
     "name": "stdout",
     "output_type": "stream",
     "text": [
      "            iNeuron \n",
      "\n",
      "        iNeuron iNeuron \n",
      "\n",
      "    iNeuron iNeuron iNeuron \n",
      "\n",
      "        iNeuron iNeuron \n",
      "\n",
      "            iNeuron \n",
      "\n"
     ]
    }
   ],
   "source": [
    "s=\"iNeuron\"\n",
    "n=3\n",
    "k=2*n-2\n",
    "for i in range(n) : \n",
    "    k = k-1\n",
    "    print(\"  \"*2*k,end = \"\")\n",
    "    for j in range(0,i+1) : \n",
    "        print(s,end = \" \")\n",
    "    print(\"\\n\")\n",
    "k=n-2\n",
    "for i in range(k,-1,-1) :\n",
    "    k=k+1\n",
    "    print(\"  \"*2*k,end = \"\")\n",
    "    for j in range(0,i+1) :\n",
    "        print(s,end = \" \")\n",
    "    print(\"\\n\")\n"
   ]
  },
  {
   "cell_type": "code",
   "execution_count": 3,
   "id": "08cc1f5f",
   "metadata": {},
   "outputs": [],
   "source": [
    "l = [[1,2,3,4],(2,3,4,5,6),(3,4,5,6,7),set([23,4,5,45,4,4,5,45,45,4,5]),{\"k1\":\"sudh\",\"k2\":\"ineuron\",\"k3\":\"kumar\",3:6,7:8},\n",
    "    [\"ineuron\",\"data science\"]]"
   ]
  },
  {
   "cell_type": "code",
   "execution_count": 4,
   "id": "3fd70226",
   "metadata": {},
   "outputs": [
    {
     "data": {
      "text/plain": [
       "[[1, 2, 3, 4],\n",
       " (2, 3, 4, 5, 6),\n",
       " (3, 4, 5, 6, 7),\n",
       " {4, 5, 23, 45},\n",
       " {'k1': 'sudh', 'k2': 'ineuron', 'k3': 'kumar', 3: 6, 7: 8},\n",
       " ['ineuron', 'data science']]"
      ]
     },
     "execution_count": 4,
     "metadata": {},
     "output_type": "execute_result"
    }
   ],
   "source": [
    "l"
   ]
  },
  {
   "cell_type": "markdown",
   "id": "27896ecc",
   "metadata": {},
   "source": [
    "q3 : Try to extract all the list entities"
   ]
  },
  {
   "cell_type": "code",
   "execution_count": 5,
   "id": "a64b19cc",
   "metadata": {},
   "outputs": [
    {
     "name": "stdout",
     "output_type": "stream",
     "text": [
      "[1, 2, 3, 4]\n",
      "['ineuron', 'data science']\n"
     ]
    }
   ],
   "source": [
    "for i in l:\n",
    "    if type(i) == list:\n",
    "        print(i)"
   ]
  },
  {
   "cell_type": "markdown",
   "id": "090d7cd3",
   "metadata": {},
   "source": [
    "q4 : Try to extract dict entities"
   ]
  },
  {
   "cell_type": "code",
   "execution_count": 6,
   "id": "8c1d7092",
   "metadata": {},
   "outputs": [
    {
     "name": "stdout",
     "output_type": "stream",
     "text": [
      "{'k1': 'sudh', 'k2': 'ineuron', 'k3': 'kumar', 3: 6, 7: 8}\n"
     ]
    }
   ],
   "source": [
    "for i in l:\n",
    "    if type(i) == dict:\n",
    "        print(i)"
   ]
  },
  {
   "cell_type": "markdown",
   "id": "57148466",
   "metadata": {},
   "source": [
    "q5 : Try to extract all the tuples entities"
   ]
  },
  {
   "cell_type": "code",
   "execution_count": 7,
   "id": "a6d2d888",
   "metadata": {},
   "outputs": [
    {
     "name": "stdout",
     "output_type": "stream",
     "text": [
      "(2, 3, 4, 5, 6)\n",
      "(3, 4, 5, 6, 7)\n"
     ]
    }
   ],
   "source": [
    "for i in l:\n",
    "    if type(i) == tuple:\n",
    "        print(i)"
   ]
  },
  {
   "cell_type": "markdown",
   "id": "c32aad0f",
   "metadata": {},
   "source": [
    "q6 : Try to extract all numeric values it may be part of dict key and values"
   ]
  },
  {
   "cell_type": "code",
   "execution_count": 8,
   "id": "c05a605c",
   "metadata": {},
   "outputs": [
    {
     "name": "stdout",
     "output_type": "stream",
     "text": [
      "1\n",
      "2\n",
      "3\n",
      "4\n",
      "2\n",
      "3\n",
      "4\n",
      "5\n",
      "6\n",
      "3\n",
      "4\n",
      "5\n",
      "6\n",
      "7\n",
      "45\n",
      "4\n",
      "5\n",
      "23\n",
      "3\n",
      "6\n",
      "7\n",
      "8\n"
     ]
    }
   ],
   "source": [
    "for i in l:\n",
    "    if type(i) != dict:\n",
    "        for j in i:\n",
    "            if type(j) == int:\n",
    "                print(j)\n",
    "    else :\n",
    "        for k,h in i.items():  \n",
    "            if type(k) == int or type(h) == int :\n",
    "                print(k)\n",
    "                print(h)"
   ]
  },
  {
   "cell_type": "markdown",
   "id": "0462824f",
   "metadata": {},
   "source": [
    "q7 : Try to give summation of all numeric data"
   ]
  },
  {
   "cell_type": "code",
   "execution_count": 9,
   "id": "40f9b4cc",
   "metadata": {},
   "outputs": [
    {
     "data": {
      "text/plain": [
       "156"
      ]
     },
     "execution_count": 9,
     "metadata": {},
     "output_type": "execute_result"
    }
   ],
   "source": [
    "l1 = []\n",
    "for i in l:\n",
    "    if type(i) != dict:\n",
    "        for j in i:\n",
    "            if type(j) == int:\n",
    "               # print(j)\n",
    "                l1.append(j)\n",
    "    else :\n",
    "        for k,h in i.items():  \n",
    "            if type(k) == int or type(h) == int :\n",
    "               # print(k)\n",
    "               # print(h)\n",
    "                l1.append(k)\n",
    "                l1.append(h)\n",
    "sum(l1)"
   ]
  },
  {
   "cell_type": "markdown",
   "id": "0e7ed82b",
   "metadata": {},
   "source": [
    "q8 : Try to filter out the odd values out of all numeric data "
   ]
  },
  {
   "cell_type": "code",
   "execution_count": 10,
   "id": "323bc329",
   "metadata": {},
   "outputs": [
    {
     "data": {
      "text/plain": [
       "[1, 3, 3, 5, 3, 5, 7, 45, 5, 23, 3, 7]"
      ]
     },
     "execution_count": 10,
     "metadata": {},
     "output_type": "execute_result"
    }
   ],
   "source": [
    "l2 = []\n",
    "for i in l1:\n",
    "    if i%2 == 1:\n",
    "        #print(i)\n",
    "        l2.append(i)\n",
    "l2"
   ]
  },
  {
   "cell_type": "markdown",
   "id": "395d4c78",
   "metadata": {},
   "source": [
    "q9 : Try to extract ineuron out of this data"
   ]
  },
  {
   "cell_type": "code",
   "execution_count": 11,
   "id": "ff83a24d",
   "metadata": {},
   "outputs": [
    {
     "name": "stdout",
     "output_type": "stream",
     "text": [
      "ineuron\n",
      "ineuron\n"
     ]
    }
   ],
   "source": [
    "for i in l:\n",
    "    if type(i) != dict:\n",
    "        for j in i:\n",
    "            if j == \"ineuron\":\n",
    "                print(j)                \n",
    "    else :\n",
    "        for k,h in i.items():  \n",
    "            if h == \"ineuron\" :\n",
    "                print(h)"
   ]
  },
  {
   "cell_type": "markdown",
   "id": "556569c2",
   "metadata": {},
   "source": [
    "q10 : Try to find out the no of occurences of all the data"
   ]
  },
  {
   "cell_type": "code",
   "execution_count": 12,
   "id": "587212c1",
   "metadata": {},
   "outputs": [
    {
     "name": "stdout",
     "output_type": "stream",
     "text": [
      "1 : 1\n",
      "2 : 2\n",
      "3 : 4\n",
      "4 : 4\n",
      "5 : 3\n",
      "6 : 3\n",
      "7 : 2\n",
      "k1 : 1\n",
      "sudh : 1\n",
      "k3 : 1\n",
      "8 : 1\n",
      "kumar : 1\n",
      "45 : 1\n",
      "data science : 1\n",
      "k2 : 1\n",
      "23 : 1\n",
      "ineuron : 2\n"
     ]
    }
   ],
   "source": [
    "l3 = []\n",
    "for i in l:\n",
    "    if type(i) != dict:\n",
    "        for j in i:\n",
    "            #print(j)\n",
    "            l3.append(j)\n",
    "    else :\n",
    "        for k,h in i.items():  \n",
    "            #print(k)\n",
    "            #print(h)\n",
    "            l3.append(k)\n",
    "            l3.append(h)\n",
    "#print(l3)\n",
    "for i in set(l3):\n",
    "    print(i,\":\",l3.count(i))"
   ]
  },
  {
   "cell_type": "markdown",
   "id": "e3fc810c",
   "metadata": {},
   "source": [
    "q11 : try to find out no keys in dict elements"
   ]
  },
  {
   "cell_type": "code",
   "execution_count": 13,
   "id": "2a89d372",
   "metadata": {},
   "outputs": [
    {
     "name": "stdout",
     "output_type": "stream",
     "text": [
      "k1\n",
      "k2\n",
      "k3\n",
      "3\n",
      "7\n"
     ]
    }
   ],
   "source": [
    "for i in l:\n",
    "    if type(i) == dict:\n",
    "        for j in i:\n",
    "            print(j)"
   ]
  },
  {
   "cell_type": "markdown",
   "id": "ea77a59f",
   "metadata": {},
   "source": [
    "q12 : Try to filter out all the string data"
   ]
  },
  {
   "cell_type": "code",
   "execution_count": 14,
   "id": "40efa391",
   "metadata": {},
   "outputs": [
    {
     "name": "stdout",
     "output_type": "stream",
     "text": [
      "k1\n",
      "sudh\n",
      "k2\n",
      "ineuron\n",
      "k3\n",
      "kumar\n",
      "ineuron\n",
      "data science\n"
     ]
    }
   ],
   "source": [
    "for i in l:\n",
    "    if type(i) != dict:\n",
    "        for j in i:\n",
    "            if type(j) == str:\n",
    "                print(j)\n",
    "    else :\n",
    "        for k,h in i.items():  \n",
    "            if type(k) == str or type(h) == str :\n",
    "                print(k)\n",
    "                print(h)"
   ]
  },
  {
   "cell_type": "markdown",
   "id": "86a601a9",
   "metadata": {},
   "source": [
    "q13 : Try to find out alphanum in data"
   ]
  },
  {
   "cell_type": "code",
   "execution_count": 15,
   "id": "2677bf80",
   "metadata": {},
   "outputs": [
    {
     "name": "stdout",
     "output_type": "stream",
     "text": [
      "1\n",
      "2\n",
      "3\n",
      "4\n",
      "2\n",
      "3\n",
      "4\n",
      "5\n",
      "6\n",
      "3\n",
      "4\n",
      "5\n",
      "6\n",
      "7\n",
      "45\n",
      "4\n",
      "5\n",
      "23\n",
      "k1\n",
      "sudh\n",
      "k2\n",
      "ineuron\n",
      "k3\n",
      "kumar\n",
      "3\n",
      "6\n",
      "7\n",
      "8\n",
      "ineuron\n"
     ]
    }
   ],
   "source": [
    "for i in l:\n",
    "    if type(i) != dict:\n",
    "        for j in i:\n",
    "            if str(j).isalnum() == True:\n",
    "                print(j)                \n",
    "    else:\n",
    "        for k,h in i.items():  \n",
    "            if str(k).isalnum() == True or str(h).isalnum() == True:\n",
    "                print(k)\n",
    "                print(h)"
   ]
  },
  {
   "cell_type": "markdown",
   "id": "bef7f4a6",
   "metadata": {},
   "source": [
    "q14 : Try to find out multiplication of all numeric values in the individual collection inside dataset"
   ]
  },
  {
   "cell_type": "code",
   "execution_count": 19,
   "id": "706af298",
   "metadata": {},
   "outputs": [
    {
     "data": {
      "text/plain": [
       "[24, 720, 2520, 20700]"
      ]
     },
     "execution_count": 19,
     "metadata": {},
     "output_type": "execute_result"
    }
   ],
   "source": [
    "def multiply(no):  \n",
    "    p = 1\n",
    "    for x in no:\n",
    "        p = p*x  \n",
    "    return p  \n",
    "\n",
    "l7 = []\n",
    "s = 1\n",
    "for i in l:\n",
    "    if type(i) != dict:\n",
    "        if type(i) == list:\n",
    "            for j in i:\n",
    "                if type(j) == int:\n",
    "                    #print(\"[\",multiply(i),\"]\")\n",
    "                    s = multiply(i)\n",
    "                    if s not in l7:\n",
    "                        l7.append(s)\n",
    "        if type(i) == tuple:\n",
    "            #print(i,\": (\",multiply(i),\")\")\n",
    "            s = multiply(i)\n",
    "            l7.append(s)\n",
    "        if type(i) == set:\n",
    "            #print(i,\": {\",multiply(i),\"}\")\n",
    "            s = multiply(i)\n",
    "            l7.append(s)\n",
    "l7"
   ]
  },
  {
   "cell_type": "markdown",
   "id": "fe9ba532",
   "metadata": {},
   "source": [
    "q15: Try to unwrap all the collection inside collections and create a list"
   ]
  },
  {
   "cell_type": "code",
   "execution_count": 16,
   "id": "e8b2433e",
   "metadata": {},
   "outputs": [
    {
     "name": "stdout",
     "output_type": "stream",
     "text": [
      "[1, 2, 3, 4, 2, 3, 4, 5, 6, 3, 4, 5, 6, 7, 45, 4, 5, 23, 'k1', 'sudh', 'k2', 'ineuron', 'k3', 'kumar', 3, 6, 7, 8, 'ineuron', 'data science']\n"
     ]
    }
   ],
   "source": [
    "l4 = []\n",
    "for i in l:\n",
    "    if type(i) != dict:\n",
    "        for j in i:\n",
    "            l4.append(j)\n",
    "    else :\n",
    "        for k,h in i.items(): \n",
    "            l4.append(k)\n",
    "            l4.append(h)\n",
    "print(l4)"
   ]
  },
  {
   "cell_type": "code",
   "execution_count": null,
   "id": "14d79a77",
   "metadata": {},
   "outputs": [],
   "source": []
  }
 ],
 "metadata": {
  "kernelspec": {
   "display_name": "Python 3 (ipykernel)",
   "language": "python",
   "name": "python3"
  },
  "language_info": {
   "codemirror_mode": {
    "name": "ipython",
    "version": 3
   },
   "file_extension": ".py",
   "mimetype": "text/x-python",
   "name": "python",
   "nbconvert_exporter": "python",
   "pygments_lexer": "ipython3",
   "version": "3.9.7"
  }
 },
 "nbformat": 4,
 "nbformat_minor": 5
}
